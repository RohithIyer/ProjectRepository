{
 "cells": [
  {
   "cell_type": "code",
   "execution_count": null,
   "metadata": {},
   "outputs": [],
   "source": [
    "\"\"\"\n",
    "Copyright (c) 2024 -- \n",
    "Licensed\n",
    "Written by Rohith Krishnamurthy \n",
    "\n",
    "\"\"\""
   ]
  },
  {
   "cell_type": "code",
   "execution_count": 1,
   "metadata": {},
   "outputs": [],
   "source": [
    "#Import necessary libraries\n",
    "import pandas as pd\n",
    "import numpy as np"
   ]
  },
  {
   "cell_type": "markdown",
   "metadata": {},
   "source": [
    "Provided below are functions that are:\n",
    "- completely defined: `add_numbers`;\n",
    "- partially defined: `min_square`; _and_\n",
    "- not defined at all: `sum_squares`\n",
    "\n",
    " 1. Complete `min_square` so that it returns the minimum of (square root of `a` and square root of `b`)\n",
    " 2. Write a function called `sum_squares` that returns the sum of the square root of `a` and the square root of `b`."
   ]
  },
  {
   "cell_type": "code",
   "execution_count": 2,
   "metadata": {},
   "outputs": [],
   "source": [
    "import math\n",
    "\n",
    "def add_numbers(x, y):\n",
    "    try:\n",
    "        result = x + y\n",
    "        return result\n",
    "    except TypeError:\n",
    "        return \"Ensure both inputs are numbers.\"\n",
    "\n",
    "def min_square(a, b):\n",
    "    try:\n",
    "        # Return the minimum of square root of a and square root of b\n",
    "        result = min(math.sqrt(a), math.sqrt(b))\n",
    "        return result\n",
    "    except ValueError:\n",
    "        return \"Please ensure both inputs are non-negative numbers.\"\n",
    "\n",
    "def sum_squares(a, b):\n",
    "    try:\n",
    "        result = math.sqrt(a) + math.sqrt(b)\n",
    "        return result\n",
    "    except ValueError:\n",
    "        return \"Please ensure both inputs are non-negative numbers.\"\n"
   ]
  },
  {
   "cell_type": "markdown",
   "metadata": {},
   "source": [
    "Write a function called `personal_info` that takes a a last name, age, and a home town (a total of 3 arguments) and returns a full sentence string with the following content and format: `Your last name is [name], you are [age] years old, and you live in [city].`--where the values in square brackets are the actual values of the tree arguments provided by the function. Please make sure that you follow the format and grammar of the sentence exactly as defined and that you use `f-string` Python string formatting--any other type of formatting will receive reduced points.\n",
    "_Hint_: Your string shold follow the Python f-strings formatting functionality. https://realpython.com/python-f-strings/"
   ]
  },
  {
   "cell_type": "code",
   "execution_count": 3,
   "metadata": {},
   "outputs": [],
   "source": [
    "def personal_info(last_name, age, home_town):\n",
    "    try:\n",
    "        # Ensure the age is an integer\n",
    "        age = int(age)\n",
    "        # Ensure last_name and home_town are strings\n",
    "        if not isinstance(last_name, str) or not isinstance(home_town, str):\n",
    "            raise ValueError(\"Last name and home town must be strings.\")\n",
    "        return f\"Your last name is {last_name}, you are {age} years old, and you live in {home_town}.\"\n",
    "    except ValueError as e:\n",
    "        return str(e)\n",
    "    except TypeError:\n",
    "        return \"An unexpected type error has occurred, please check your inputs.\"\n"
   ]
  },
  {
   "cell_type": "code",
   "execution_count": 4,
   "metadata": {},
   "outputs": [
    {
     "data": {
      "text/plain": [
       "'Your last name is Smith, you are 30 years old, and you live in Boston.'"
      ]
     },
     "execution_count": 4,
     "metadata": {},
     "output_type": "execute_result"
    }
   ],
   "source": [
    "personal_info('Smith', 30, 'Boston')  # please do not modify this cell"
   ]
  },
  {
   "cell_type": "markdown",
   "metadata": {
    "collapsed": true
   },
   "source": [
    "Using a `while` loop: loop over every sequential _odd_ number between `2` and `19` (__`inclusive`__); in the same `while` loop print __`only`__ every 3rd sequential of those odd numnbers you have encountered in the loop."
   ]
  },
  {
   "cell_type": "code",
   "execution_count": 5,
   "metadata": {},
   "outputs": [
    {
     "name": "stdout",
     "output_type": "stream",
     "text": [
      "7\n",
      "13\n",
      "19\n"
     ]
    }
   ],
   "source": [
    "def print_every_third_odd_number():\n",
    "    try:\n",
    "        number = 3\n",
    "        # Initialize a counter for odd numbers encountered\n",
    "        odd_counter = 0\n",
    "\n",
    "        while number <= 19:\n",
    "            # Check if the number is odd\n",
    "            if number % 2 != 0:\n",
    "                odd_counter += 1\n",
    "                # Print only every 3rd sequential odd number\n",
    "                if odd_counter % 3 == 0:\n",
    "                    print(number)\n",
    "            # Go to the next number\n",
    "            number += 1\n",
    "\n",
    "    except Exception as e:\n",
    "        print(f\"An error occurred: {e}\")\n",
    "\n",
    "# Call the function\n",
    "print_every_third_odd_number()\n"
   ]
  },
  {
   "cell_type": "markdown",
   "metadata": {},
   "source": [
    "Define a function called `length_converter` that takes as an argument a length in `meters` and __prints__ the equivalent distance in `miles` using the following sentence: `Original length was [..] meters, which equals [..] miles.`"
   ]
  },
  {
   "cell_type": "code",
   "execution_count": 6,
   "metadata": {},
   "outputs": [],
   "source": [
    "def length_converter(meters):\n",
    "    try:\n",
    "        meters_float = float(meters)\n",
    "        # Conversion factor from meters to miles\n",
    "        conversion_factor = 0.000621371\n",
    "        # Perform the conversion\n",
    "        miles = meters_float * conversion_factor\n",
    "        # Print the result\n",
    "        print(f\"Original length was {meters_float} meters, which equals {miles} miles.\")\n",
    "    except ValueError:\n",
    "        print(\"Please provide a valid number for meters.\")\n",
    "    except TypeError:\n",
    "        print(\"The input should be a number or a string that represents a number.\")\n"
   ]
  },
  {
   "cell_type": "code",
   "execution_count": 7,
   "metadata": {},
   "outputs": [
    {
     "name": "stdout",
     "output_type": "stream",
     "text": [
      "Original length was 5000.0 meters, which equals 3.106855 miles.\n"
     ]
    }
   ],
   "source": [
    "length_converter(5000)  # please do not modify this cell"
   ]
  }
 ],
 "metadata": {
  "kernelspec": {
   "display_name": "Python 3",
   "language": "python",
   "name": "python3"
  },
  "language_info": {
   "codemirror_mode": {
    "name": "ipython",
    "version": 3
   },
   "file_extension": ".py",
   "mimetype": "text/x-python",
   "name": "python",
   "nbconvert_exporter": "python",
   "pygments_lexer": "ipython3",
   "version": "3.8.8"
  }
 },
 "nbformat": 4,
 "nbformat_minor": 2
}
