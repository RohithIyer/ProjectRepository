{
 "cells": [
  {
   "cell_type": "markdown",
   "metadata": {},
   "source": [
    "###Import necessary libraries"
   ]
  },
  {
   "cell_type": "code",
   "execution_count": 22,
   "metadata": {},
   "outputs": [],
   "source": [
    "import pandas as pd\n",
    "import seaborn as sns\n",
    "from scipy.stats import pearsonr\n",
    "import matplotlib.pyplot as plt"
   ]
  },
  {
   "cell_type": "markdown",
   "metadata": {},
   "source": [
    "Load the dataset and get a hang of the columns it contains"
   ]
  },
  {
   "cell_type": "code",
   "execution_count": 23,
   "metadata": {},
   "outputs": [
    {
     "name": "stdout",
     "output_type": "stream",
     "text": [
      "   year                                              movie   movie_id  \\\n",
      "0  2001                                     Kate & Leopold  tt0035423   \n",
      "1  2000                                        Chicken Run  tt0120630   \n",
      "2  2005                                     Fantastic Four  tt0120667   \n",
      "3  2002                                              Frida  tt0120679   \n",
      "4  2001  The Lord of the Rings: The Fellowship of the Ring  tt0120737   \n",
      "\n",
      "  certificate  duration                       genre  rate  metascore  \\\n",
      "0       PG-13       118      Comedy|Fantasy|Romance   6.4       44.0   \n",
      "1           G        84  Animation|Adventure|Comedy   7.0       88.0   \n",
      "2       PG-13       106     Action|Adventure|Family   5.7       40.0   \n",
      "3           R       123     Biography|Drama|Romance   7.4       61.0   \n",
      "4       PG-13       178     Adventure|Drama|Fantasy   8.8       92.0   \n",
      "\n",
      "                                            synopsis    votes  ...  \\\n",
      "0  An English Duke from 1876 is inadvertedly drag...    66660  ...   \n",
      "1  When a cockerel apparently flies into a chicke...   144475  ...   \n",
      "2  A group of astronauts gain superpowers after a...   273203  ...   \n",
      "3  A biography of artist Frida Kahlo, who channel...    63852  ...   \n",
      "4  A meek Hobbit from the Shire and eight compani...  1286275  ...   \n",
      "\n",
      "   New_York_Film_Critics_Circle_nominated  \\\n",
      "0                                       0   \n",
      "1                                       1   \n",
      "2                                       0   \n",
      "3                                       0   \n",
      "4                                       0   \n",
      "\n",
      "  New_York_Film_Critics_Circle_nominated_categories  \\\n",
      "0                                               NaN   \n",
      "1                                Best Animated Film   \n",
      "2                                               NaN   \n",
      "3                                               NaN   \n",
      "4                                               NaN   \n",
      "\n",
      "   Los_Angeles_Film_Critics_Association_won  \\\n",
      "0                                         0   \n",
      "1                                         1   \n",
      "2                                         0   \n",
      "3                                         0   \n",
      "4                                         1   \n",
      "\n",
      "   Los_Angeles_Film_Critics_Association_won_categories  \\\n",
      "0                                                NaN     \n",
      "1                                     Best Animation     \n",
      "2                                                NaN     \n",
      "3                                                NaN     \n",
      "4                                         Best Music     \n",
      "\n",
      "   Los_Angeles_Film_Critics_Association_nominated  \\\n",
      "0                                               0   \n",
      "1                                               1   \n",
      "2                                               0   \n",
      "3                                               0   \n",
      "4                                               2   \n",
      "\n",
      "   Los_Angeles_Film_Critics_Association_nominated_categories  \\\n",
      "0                                                NaN           \n",
      "1                                     Best Animation           \n",
      "2                                                NaN           \n",
      "3                                                NaN           \n",
      "4                  Best Music|Best Production Design           \n",
      "\n",
      "   release_date.year release_date.month release_date.day-of-month  \\\n",
      "0             2001.0               12.0                      25.0   \n",
      "1             2000.0                6.0                      23.0   \n",
      "2             2005.0                7.0                       8.0   \n",
      "3             2002.0               11.0                      22.0   \n",
      "4             2001.0               12.0                      19.0   \n",
      "\n",
      "  release_date.day-of-week  \n",
      "0                      2.0  \n",
      "1                      5.0  \n",
      "2                      5.0  \n",
      "3                      5.0  \n",
      "4                      3.0  \n",
      "\n",
      "[5 rows x 119 columns]\n",
      "Index(['year', 'movie', 'movie_id', 'certificate', 'duration', 'genre', 'rate',\n",
      "       'metascore', 'synopsis', 'votes',\n",
      "       ...\n",
      "       'New_York_Film_Critics_Circle_nominated',\n",
      "       'New_York_Film_Critics_Circle_nominated_categories',\n",
      "       'Los_Angeles_Film_Critics_Association_won',\n",
      "       'Los_Angeles_Film_Critics_Association_won_categories',\n",
      "       'Los_Angeles_Film_Critics_Association_nominated',\n",
      "       'Los_Angeles_Film_Critics_Association_nominated_categories',\n",
      "       'release_date.year', 'release_date.month', 'release_date.day-of-month',\n",
      "       'release_date.day-of-week'],\n",
      "      dtype='object', length=119)\n",
      "<class 'pandas.core.frame.DataFrame'>\n",
      "RangeIndex: 1235 entries, 0 to 1234\n",
      "Columns: 119 entries, year to release_date.day-of-week\n",
      "dtypes: float64(10), int64(46), object(63)\n",
      "memory usage: 1.1+ MB\n",
      "None\n",
      "year                                                            0\n",
      "movie                                                           0\n",
      "movie_id                                                        0\n",
      "certificate                                                    26\n",
      "duration                                                        0\n",
      "                                                             ... \n",
      "Los_Angeles_Film_Critics_Association_nominated_categories    1007\n",
      "release_date.year                                              30\n",
      "release_date.month                                             30\n",
      "release_date.day-of-month                                      30\n",
      "release_date.day-of-week                                       30\n",
      "Length: 119, dtype: int64\n"
     ]
    }
   ],
   "source": [
    "# Step 2: Load the dataset\n",
    "df = pd.read_csv('Oscar_2000_2018.csv')\n",
    "\n",
    "# Step 3: Examine the DataFrame\n",
    "print(df.head())  # Display the first few rows to understand the structure\n",
    "print(df.columns)  # Print out the column names to verify the fields\n",
    "print(df.info())   # Get a concise summary of the DataFrame\n",
    "print(df.isnull().sum()) #Check  for missing values in each column"
   ]
  },
  {
   "cell_type": "markdown",
   "metadata": {},
   "source": [
    "Scatterplot to show the relationship between features “user_reviews” and “critic_reviews"
   ]
  },
  {
   "cell_type": "code",
   "execution_count": 24,
   "metadata": {},
   "outputs": [
    {
     "data": {
      "image/png": "[encoded data removed]",
      "text/plain": [
       "<Figure size 432x288 with 1 Axes>"
      ]
     },
     "metadata": {
      "needs_background": "light"
     },
     "output_type": "display_data"
    }
   ],
   "source": [
    "# Step 4: Visualize the relationship\n",
    "sns.scatterplot(data=df, x='user_reviews', y='critic_reviews')\n",
    "plt.title('Relationship between User Reviews and Critic Reviews')\n",
    "plt.xlabel('User Reviews')\n",
    "plt.ylabel('Critic Reviews')\n",
    "plt.show()"
   ]
  },
  {
   "cell_type": "markdown",
   "metadata": {},
   "source": [
    "Find the Pearson's correlation coefficient(r) between the 2 features."
   ]
  },
  {
   "cell_type": "code",
   "execution_count": 25,
   "metadata": {},
   "outputs": [
    {
     "name": "stdout",
     "output_type": "stream",
     "text": [
      "Pearson's correlation coefficient: 0.495843761606661, p-value: 1.0727233412973182e-76\n"
     ]
    }
   ],
   "source": [
    "# Filter out rows where either 'user_reviews' or 'critic_reviews' is NaN\n",
    "filtered_df = df.dropna(subset=['user_reviews', 'critic_reviews'])\n",
    "\n",
    "# Calculate Pearson's correlation coefficient on the filtered data\n",
    "r, p_value = pearsonr(filtered_df['user_reviews'], filtered_df['critic_reviews'])\n",
    "print(f\"Pearson's correlation coefficient: {r}, p-value: {p_value}\")\n"
   ]
  },
  {
   "cell_type": "markdown",
   "metadata": {},
   "source": [
    "Plot the average “duration” per “certificate” feature"
   ]
  },
  {
   "cell_type": "code",
   "execution_count": 26,
   "metadata": {},
   "outputs": [
    {
     "data": {
      "image/png": "[encoded data removed]",
      "text/plain": [
       "<Figure size 432x288 with 1 Axes>"
      ]
     },
     "metadata": {
      "needs_background": "light"
     },
     "output_type": "display_data"
    }
   ],
   "source": [
    "# Plotting the average movie duration for each certificate category\n",
    "average_duration = df.groupby('certificate')['duration'].mean()\n",
    "average_duration.plot(kind='bar', title='Average Movie Duration per Certificate')\n",
    "plt.ylabel('Average Duration (minutes)')\n",
    "plt.show()\n"
   ]
  },
  {
   "cell_type": "markdown",
   "metadata": {},
   "source": [
    "histogram for the “genre” feature after splitting by genre field"
   ]
  },
  {
   "cell_type": "code",
   "execution_count": 27,
   "metadata": {},
   "outputs": [
    {
     "data": {
      "image/png": "[encoded data removed]",
      "text/plain": [
       "<Figure size 432x288 with 1 Axes>"
      ]
     },
     "metadata": {
      "needs_background": "light"
     },
     "output_type": "display_data"
    }
   ],
   "source": [
    "all_genres = df['genre'].str.split('|').explode()\n",
    "all_genres.value_counts().plot(kind='bar', title='Movie Genres Histogram')\n",
    "plt.ylabel('Number of Movies')\n",
    "plt.show()\n"
   ]
  },
  {
   "cell_type": "markdown",
   "metadata": {},
   "source": [
    "Remove all of the features which has the convention “Oscar_Best_XXX_won” except for the target variable “Oscar_Best_Picture_won”."
   ]
  },
  {
   "cell_type": "code",
   "execution_count": 28,
   "metadata": {},
   "outputs": [],
   "source": [
    "# List all columns that should be removed, except the target variable\n",
    "columns_to_remove = [col for col in df.columns if col.startswith('Oscar_Best_') and col.endswith('_won') and col != 'Oscar_Best_Picture_won']\n",
    "\n",
    "# Drop these columns from the DataFrame\n",
    "df = df.drop(columns=columns_to_remove)"
   ]
  },
  {
   "cell_type": "markdown",
   "metadata": {},
   "source": [
    "Convert the target variable’s type to a numerical type by doing the transformation, “Yes” = 1, “No” = 0."
   ]
  },
  {
   "cell_type": "code",
   "execution_count": 29,
   "metadata": {},
   "outputs": [],
   "source": [
    "df['Oscar_Best_Picture_won'] = df['Oscar_Best_Picture_won'].map({'Yes': 1, 'No': 0})\n"
   ]
  },
  {
   "cell_type": "markdown",
   "metadata": {},
   "source": [
    "Remove columns with high cardinality, i.e., for every column that has a unique value frequency of 70% or higher, remove them from the dataset."
   ]
  },
  {
   "cell_type": "code",
   "execution_count": 30,
   "metadata": {},
   "outputs": [
    {
     "name": "stdout",
     "output_type": "stream",
     "text": [
      "Number of columns removed: 6\n",
      "New number of features: 106\n"
     ]
    }
   ],
   "source": [
    "# Preparing to identify and remove columns with predominantly unique values\n",
    "columns_to_remove = []\n",
    "\n",
    "# Evaluating each column for its proportion of unique entries\n",
    "for col in df.columns:\n",
    "    if (df[col].nunique() / df.shape[0]) > 0.7:  # Criteria for high uniqueness\n",
    "        columns_to_remove.append(col)\n",
    "\n",
    "# Creating a new DataFrame without the columns identified for removal\n",
    "df_filtered = df.drop(columns=columns_to_remove)\n",
    "print(\"Number of columns removed:\", len(columns_to_remove))\n",
    "print(\"New number of features:\", df_filtered.shape[1])"
   ]
  },
  {
   "cell_type": "markdown",
   "metadata": {},
   "source": [
    "Preprocessing"
   ]
  },
  {
   "cell_type": "code",
   "execution_count": 31,
   "metadata": {},
   "outputs": [],
   "source": [
    "# Select columns to be one-hot encoded\n",
    "categorical_columns = df.select_dtypes(include=['object']).columns\n",
    "\n",
    "# Perform one-hot encoding\n",
    "df_encoded = pd.get_dummies(df, columns=categorical_columns)\n",
    "\n",
    "# Create the training dataset for movies released from 2000 to 2017\n",
    "train_dataset = df_encoded[(df_encoded['year'] >= 2000) & (df_encoded['year'] <= 2017)]\n",
    "\n",
    "# Create the test dataset for movies released in 2018\n",
    "test_dataset = df_encoded[df_encoded['year'] == 2018]"
   ]
  },
  {
   "cell_type": "markdown",
   "metadata": {},
   "source": [
    "Perform a time split and create a training dataset spanning the period 2000-2017 and a test dataset for the movies released in 2018 - use “year” feature for the data split and build a tree based model"
   ]
  },
  {
   "cell_type": "code",
   "execution_count": 32,
   "metadata": {},
   "outputs": [
    {
     "name": "stdout",
     "output_type": "stream",
     "text": [
      "Model Accuracy: 1.0000\n",
      "Confusion Matrix:\n",
      "[[52]]\n",
      "Detailed Classification Report:\n",
      "              precision    recall  f1-score   support\n",
      "\n",
      "           0       1.00      1.00      1.00        52\n",
      "\n",
      "    accuracy                           1.00        52\n",
      "   macro avg       1.00      1.00      1.00        52\n",
      "weighted avg       1.00      1.00      1.00        52\n",
      "\n"
     ]
    }
   ],
   "source": [
    "# Importing necessary libraries\n",
    "import xgboost as xgb\n",
    "from sklearn.metrics import accuracy_score, confusion_matrix, classification_report\n",
    "from sklearn.model_selection import train_test_split\n",
    "\n",
    "# Preparing data for model training and evaluation\n",
    "features_train = train_dataset.drop(columns=['Oscar_Best_Picture_won', 'year'])\n",
    "target_train = train_dataset['Oscar_Best_Picture_won']\n",
    "features_test = test_dataset.drop(columns=['Oscar_Best_Picture_won', 'year'])\n",
    "target_test = test_dataset['Oscar_Best_Picture_won']\n",
    "\n",
    "# Configuring the XGBoost model\n",
    "model_xgb = xgb.XGBClassifier(use_label_encoder=False, eval_metric='logloss')\n",
    "\n",
    "# Fitting the model with training data\n",
    "model_xgb.fit(features_train, target_train)\n",
    "\n",
    "# Predicting the outcomes for the test set\n",
    "predictions = model_xgb.predict(features_test)\n",
    "\n",
    "# Calculating model performance metrics\n",
    "model_accuracy = accuracy_score(target_test, predictions)\n",
    "matrix_confusion = confusion_matrix(target_test, predictions)\n",
    "report_classification = classification_report(target_test, predictions)\n",
    "\n",
    "# Displaying the results\n",
    "print(f\"Model Accuracy: {model_accuracy:.4f}\")\n",
    "print(\"Confusion Matrix:\")\n",
    "print(matrix_confusion)\n",
    "print(\"Detailed Classification Report:\")\n",
    "print(report_classification)\n"
   ]
  },
  {
   "cell_type": "markdown",
   "metadata": {},
   "source": [
    "predict the test dataset and find the maximum predicted value"
   ]
  },
  {
   "cell_type": "code",
   "execution_count": 33,
   "metadata": {},
   "outputs": [
    {
     "name": "stdout",
     "output_type": "stream",
     "text": [
      "Index of movie with highest prediction to win Best Picture: 32\n",
      "Predicted probability of winning: 0.0637\n"
     ]
    }
   ],
   "source": [
    "import numpy as np\n",
    "\n",
    "# Predicting probabilities for the positive class ('winning Best Picture')\n",
    "predicted_probabilities = model_xgb.predict_proba(features_test)[:, 1]\n",
    "\n",
    "# Finding the index of the highest predicted probability\n",
    "max_probability_index = np.argmax(predicted_probabilities)\n",
    "max_probability = predicted_probabilities[max_probability_index]\n",
    "\n",
    "# Printing the index and probability of the movie with the highest chance to win\n",
    "print(f\"Index of movie with highest prediction to win Best Picture: {max_probability_index}\")\n",
    "print(f\"Predicted probability of winning: {max_probability:.4f}\")\n"
   ]
  },
  {
   "cell_type": "markdown",
   "metadata": {},
   "source": [
    "find the movie in 2018 that is associated with the maximum predicted value."
   ]
  },
  {
   "cell_type": "code",
   "execution_count": 34,
   "metadata": {},
   "outputs": [
    {
     "name": "stdout",
     "output_type": "stream",
     "text": [
      "The movie in 2018 with the highest predicted probability to win Best Picture is: Green Book\n"
     ]
    }
   ],
   "source": [
    "movies_2018 = df[df['year'] == 2018]\n",
    "predicted_movie_2018 = movies_2018.iloc[max_probability_index]['movie']\n",
    "print(f\"The movie in 2018 with the highest predicted probability to win Best Picture is: {predicted_movie_2018}\")"
   ]
  }
 ],
 "metadata": {
  "kernelspec": {
   "display_name": "base",
   "language": "python",
   "name": "python3"
  },
  "language_info": {
   "codemirror_mode": {
    "name": "ipython",
    "version": 3
   },
   "file_extension": ".py",
   "mimetype": "text/x-python",
   "name": "python",
   "nbconvert_exporter": "python",
   "pygments_lexer": "ipython3",
   "version": "3.8.8"
  }
 },
 "nbformat": 4,
 "nbformat_minor": 2
}
